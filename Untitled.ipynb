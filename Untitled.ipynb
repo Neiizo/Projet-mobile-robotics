{
 "cells": [
  {
   "cell_type": "code",
   "execution_count": 4,
   "metadata": {},
   "outputs": [],
   "source": [
    "import cv2\n",
    "import numpy as np\n",
    "import math\n",
    "import matplotlib.pyplot as plt\n",
    "\n",
    "import aruco_vision as av"
   ]
  },
  {
   "cell_type": "code",
   "execution_count": 1,
   "metadata": {},
   "outputs": [
    {
     "name": "stdout",
     "output_type": "stream",
     "text": [
      "Collecting opencv-contrib-python\n",
      "  Using cached opencv_contrib_python-4.6.0.66-cp36-abi3-win_amd64.whl (42.5 MB)\n",
      "Requirement already satisfied: numpy>=1.17.3 in c:\\users\\neizo\\anaconda3\\lib\\site-packages (from opencv-contrib-python) (1.21.5)\n",
      "Installing collected packages: opencv-contrib-python\n",
      "Successfully installed opencv-contrib-python-4.6.0.66\n"
     ]
    }
   ],
   "source": [
    "\n",
    "\n",
    "!pip install opencv-contrib-python\n",
    "\n"
   ]
  },
  {
   "cell_type": "code",
   "execution_count": 3,
   "metadata": {},
   "outputs": [
    {
     "ename": "NameError",
     "evalue": "name 'av' is not defined",
     "output_type": "error",
     "traceback": [
      "\u001b[1;31m---------------------------------------------------------------------------\u001b[0m",
      "\u001b[1;31mNameError\u001b[0m                                 Traceback (most recent call last)",
      "\u001b[1;32mc:\\Users\\Neizo\\Documents\\Exercises\\BMR\\Projet mobile robotics\\Untitled.ipynb Cell 3\u001b[0m in \u001b[0;36m<cell line: 3>\u001b[1;34m()\u001b[0m\n\u001b[0;32m      <a href='vscode-notebook-cell:/c%3A/Users/Neizo/Documents/Exercises/BMR/Projet%20mobile%20robotics/Untitled.ipynb#W2sZmlsZQ%3D%3D?line=0'>1</a>\u001b[0m rows \u001b[39m=\u001b[39m \u001b[39m6\u001b[39m\n\u001b[0;32m      <a href='vscode-notebook-cell:/c%3A/Users/Neizo/Documents/Exercises/BMR/Projet%20mobile%20robotics/Untitled.ipynb#W2sZmlsZQ%3D%3D?line=1'>2</a>\u001b[0m columns \u001b[39m=\u001b[39m \u001b[39m9\u001b[39m\n\u001b[1;32m----> <a href='vscode-notebook-cell:/c%3A/Users/Neizo/Documents/Exercises/BMR/Projet%20mobile%20robotics/Untitled.ipynb#W2sZmlsZQ%3D%3D?line=2'>3</a>\u001b[0m vision \u001b[39m=\u001b[39m av\u001b[39m.\u001b[39mArucoVision(rows, columns)\n",
      "\u001b[1;31mNameError\u001b[0m: name 'av' is not defined"
     ]
    }
   ],
   "source": [
    "rows = 6\n",
    "columns = 9\n",
    "vision = av.ArucoVision(rows, columns)"
   ]
  },
  {
   "cell_type": "code",
   "execution_count": 2,
   "metadata": {},
   "outputs": [
    {
     "ename": "NameError",
     "evalue": "name 'vision' is not defined",
     "output_type": "error",
     "traceback": [
      "\u001b[1;31m---------------------------------------------------------------------------\u001b[0m",
      "\u001b[1;31mNameError\u001b[0m                                 Traceback (most recent call last)",
      "\u001b[1;32mc:\\Users\\Neizo\\Documents\\Exercises\\BMR\\Projet mobile robotics\\Untitled.ipynb Cell 4\u001b[0m in \u001b[0;36m<cell line: 1>\u001b[1;34m()\u001b[0m\n\u001b[1;32m----> <a href='vscode-notebook-cell:/c%3A/Users/Neizo/Documents/Exercises/BMR/Projet%20mobile%20robotics/Untitled.ipynb#W3sZmlsZQ%3D%3D?line=0'>1</a>\u001b[0m \u001b[39mprint\u001b[39m(vision\u001b[39m.\u001b[39mgrid)\n",
      "\u001b[1;31mNameError\u001b[0m: name 'vision' is not defined"
     ]
    }
   ],
   "source": [
    "print(vision.grid)"
   ]
  },
  {
   "cell_type": "code",
   "execution_count": 1,
   "metadata": {},
   "outputs": [
    {
     "ename": "NameError",
     "evalue": "name 'vision' is not defined",
     "output_type": "error",
     "traceback": [
      "\u001b[1;31m---------------------------------------------------------------------------\u001b[0m",
      "\u001b[1;31mNameError\u001b[0m                                 Traceback (most recent call last)",
      "\u001b[1;32mc:\\Users\\Neizo\\Documents\\Exercises\\BMR\\Projet mobile robotics\\Untitled.ipynb Cell 5\u001b[0m in \u001b[0;36m<cell line: 1>\u001b[1;34m()\u001b[0m\n\u001b[1;32m----> <a href='vscode-notebook-cell:/c%3A/Users/Neizo/Documents/Exercises/BMR/Projet%20mobile%20robotics/Untitled.ipynb#W4sZmlsZQ%3D%3D?line=0'>1</a>\u001b[0m vision\u001b[39m.\u001b[39mupdate_coordinates()\n",
      "\u001b[1;31mNameError\u001b[0m: name 'vision' is not defined"
     ]
    }
   ],
   "source": [
    "vision.update_coordinates()"
   ]
  },
  {
   "cell_type": "code",
   "execution_count": 5,
   "metadata": {},
   "outputs": [
    {
     "name": "stdout",
     "output_type": "stream",
     "text": [
      "[[1. 1. 1. 1.]]\n",
      "1\n"
     ]
    }
   ],
   "source": [
    "import numpy as np\n",
    "a = np.ones([1,4])\n",
    "b = 1\n",
    "print(a)\n",
    "print(b)"
   ]
  },
  {
   "cell_type": "code",
   "execution_count": null,
   "metadata": {},
   "outputs": [],
   "source": []
  }
 ],
 "metadata": {
  "kernelspec": {
   "display_name": "Python 3.9.12 ('base')",
   "language": "python",
   "name": "python3"
  },
  "language_info": {
   "codemirror_mode": {
    "name": "ipython",
    "version": 3
   },
   "file_extension": ".py",
   "mimetype": "text/x-python",
   "name": "python",
   "nbconvert_exporter": "python",
   "pygments_lexer": "ipython3",
   "version": "3.9.12"
  },
  "vscode": {
   "interpreter": {
    "hash": "5ff010c4fb58d66583690da57b105aade205a845f835d32c4ee88b21f1478465"
   }
  }
 },
 "nbformat": 4,
 "nbformat_minor": 4
}
