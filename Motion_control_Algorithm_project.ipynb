{
 "cells": [
  {
   "cell_type": "markdown",
   "metadata": {
    "ExecuteTime": {
     "end_time": "2020-05-08T22:05:05.405241Z",
     "start_time": "2020-05-08T22:05:05.397090Z"
    }
   },
   "source": [
    "\n",
    "<div style=\"border:1px solid black; padding:20px 20px;text-align: justify;text-justify: inter-word\">\n",
    "    <strong>Miniproject - Path Planning<br/> </strong><br/><br/>\n",
    "    <span style=\"text-decoration:underline;font-weight:bold;\">How to use this notebook?</span><br/>\n",
    "    This notebook is made of text cells and code cells. The code cells have to be <strong>executed</strong> to see the result of the program. To execute a cell, simply select it and click on the \"play\" button (<span style=\"font: bold 12px/30px Arial, serif;\">&#9658;</span>) in the tool bar just above the notebook, or type <code>shift + enter</code>. It is important to execute the code cells in their order of appearance in the notebook.<br/>\n",
    "You can make use of the table of contents to navigate easily between sections.\n",
    "</div>\n"
   ]
  },
  {
   "cell_type": "code",
   "execution_count": 35,
   "metadata": {},
   "outputs": [
    {
     "name": "stdout",
     "output_type": "stream",
     "text": [
      "Requirement already satisfied: tdmclient in c:\\users\\neizo\\anaconda3\\lib\\site-packages (0.1.19)\n",
      "Requirement already satisfied: websockets in c:\\users\\neizo\\anaconda3\\lib\\site-packages (from tdmclient) (10.4)\n",
      "Requirement already satisfied: zeroconf in c:\\users\\neizo\\anaconda3\\lib\\site-packages (from tdmclient) (0.39.4)\n",
      "Requirement already satisfied: ifaddr>=0.1.7 in c:\\users\\neizo\\anaconda3\\lib\\site-packages (from zeroconf->tdmclient) (0.2.0)\n",
      "Requirement already satisfied: async-timeout>=4.0.1 in c:\\users\\neizo\\anaconda3\\lib\\site-packages (from zeroconf->tdmclient) (4.0.2)\n"
     ]
    }
   ],
   "source": [
    "!pip install --upgrade tdmclient"
   ]
  },
  {
   "cell_type": "code",
   "execution_count": 25,
   "metadata": {
    "ExecuteTime": {
     "end_time": "2020-05-08T22:44:36.626294Z",
     "start_time": "2020-05-08T22:44:36.226549Z"
    }
   },
   "outputs": [],
   "source": [
    "import math\n",
    "import numpy as np\n",
    "import matplotlib.pyplot as plt\n",
    "from matplotlib import colors\n",
    "\n",
    "%matplotlib inline"
   ]
  },
  {
   "cell_type": "markdown",
   "metadata": {},
   "source": [
    "## Map Initialisation"
   ]
  },
  {
   "cell_type": "markdown",
   "metadata": {},
   "source": [
    "## Implementing the Algorithm"
   ]
  },
  {
   "cell_type": "code",
   "execution_count": 36,
   "metadata": {},
   "outputs": [
    {
     "ename": "TypeError",
     "evalue": "compute_Q() takes 3 positional arguments but 4 were given",
     "output_type": "error",
     "traceback": [
      "\u001b[1;31m---------------------------------------------------------------------------\u001b[0m",
      "\u001b[1;31mTypeError\u001b[0m                                 Traceback (most recent call last)",
      "Cell \u001b[1;32mIn[36], line 11\u001b[0m\n\u001b[0;32m      9\u001b[0m r_cam \u001b[39m=\u001b[39m \u001b[39m1\u001b[39m\n\u001b[0;32m     10\u001b[0m r_gnd \u001b[39m=\u001b[39m \u001b[39m1\u001b[39m\n\u001b[1;32m---> 11\u001b[0m KF \u001b[39m=\u001b[39m KalmanFilter(dt, point, speed_to_mms, q_cam, q_gnd, r_cam, r_gnd)\n",
      "File \u001b[1;32mc:\\Pico\\Projet robotique\\kalmanfilter.py:27\u001b[0m, in \u001b[0;36mKalmanFilter.__init__\u001b[1;34m(self, dt, point, speed_to_mms, q_cam, q_gnd, r_cam, r_gnd)\u001b[0m\n\u001b[0;32m     25\u001b[0m \u001b[39mself\u001b[39m\u001b[39m.\u001b[39minner_strip_width  \u001b[39m=\u001b[39m \u001b[39m47\u001b[39m\n\u001b[0;32m     26\u001b[0m \u001b[39mself\u001b[39m\u001b[39m.\u001b[39mouter_strip_width \u001b[39m=\u001b[39m \u001b[39m4\u001b[39m\n\u001b[1;32m---> 27\u001b[0m \u001b[39mself\u001b[39;49m\u001b[39m.\u001b[39;49mcompute_Q(\u001b[39mself\u001b[39;49m, q_cam, q_gnd)\n\u001b[0;32m     28\u001b[0m \u001b[39mself\u001b[39m\u001b[39m.\u001b[39mcompute_R(\u001b[39mself\u001b[39m, r_cam, r_gnd)\n",
      "\u001b[1;31mTypeError\u001b[0m: compute_Q() takes 3 positional arguments but 4 were given"
     ]
    }
   ],
   "source": [
    "from djikstra import djikstra_algo\n",
    "from kalmanfilter import KalmanFilter\n",
    "\n",
    "dt = 0.1\n",
    "point = (6.5,6.5)\n",
    "speed_to_mms = 19\n",
    "q_cam = 1\n",
    "q_gnd = 1\n",
    "r_cam = 1\n",
    "r_gnd = 1\n",
    "KF = KalmanFilter(dt, point, speed_to_mms, q_cam, q_gnd, r_cam, r_gnd)\n"
   ]
  },
  {
   "cell_type": "code",
   "execution_count": 27,
   "metadata": {},
   "outputs": [
    {
     "name": "stdout",
     "output_type": "stream",
     "text": [
      "[[0 0 1 1 2 3 3]\n",
      " [0 1 1 2 2 2 3]]\n",
      "\n"
     ]
    },
    {
     "data": {
      "image/png": "[encoded data removed]",
      "text/plain": [
       "<Figure size 700x700 with 1 Axes>"
      ]
     },
     "metadata": {},
     "output_type": "display_data"
    }
   ],
   "source": [
    "# Initialize the parameters\n",
    "max_val_x = 10 # Size of the map\n",
    "max_val_y = 10 # Size of the map\n",
    "start = (0,0)\n",
    "goal = (3,3)\n",
    "np.random.seed(0) # To guarantee the same outcome on all computers\n",
    "data = np.random.rand(max_val_x, max_val_y) * 20 # Create a grid of 50 x 50 random values\n",
    "\n",
    "shortest_path = djikstra_algo(data,start,goal)\n",
    "print(shortest_path)\n",
    "print()"
   ]
  },
  {
   "cell_type": "code",
   "execution_count": 32,
   "metadata": {},
   "outputs": [
    {
     "name": "stderr",
     "output_type": "stream",
     "text": [
      "Python was not found; run without arguments to install from the Microsoft Store, or disable this shortcut from Settings > Manage App Execution Aliases.\n"
     ]
    }
   ],
   "source": [
    "#The exclamation point (!) allow to execute a terminal command in the notebook:\n",
    "!python3 -m tdmclient list"
   ]
  },
  {
   "cell_type": "code",
   "execution_count": 33,
   "metadata": {},
   "outputs": [
    {
     "ename": "ModuleNotFoundError",
     "evalue": "No module named 'tdmclient'",
     "output_type": "error",
     "traceback": [
      "\u001b[1;31m---------------------------------------------------------------------------\u001b[0m",
      "\u001b[1;31mModuleNotFoundError\u001b[0m                       Traceback (most recent call last)",
      "Cell \u001b[1;32mIn[33], line 2\u001b[0m\n\u001b[0;32m      1\u001b[0m \u001b[39m# Import tdmclient Notebook environment:\u001b[39;00m\n\u001b[1;32m----> 2\u001b[0m \u001b[39mimport\u001b[39;00m \u001b[39mtdmclient\u001b[39;00m\u001b[39m.\u001b[39;00m\u001b[39mnotebook\u001b[39;00m\n\u001b[0;32m      3\u001b[0m \u001b[39mawait\u001b[39;00m tdmclient\u001b[39m.\u001b[39mnotebook\u001b[39m.\u001b[39mstart()\n",
      "\u001b[1;31mModuleNotFoundError\u001b[0m: No module named 'tdmclient'"
     ]
    }
   ],
   "source": [
    "# Import tdmclient Notebook environment:\n",
    "import tdmclient.notebook\n",
    "await tdmclient.notebook.start()"
   ]
  },
  {
   "cell_type": "code",
   "execution_count": null,
   "metadata": {},
   "outputs": [],
   "source": [
    "#from tdmclient import ClientAsync\n",
    "#client = ClientAsync()\n",
    "#node = await client.wait_for_node()\n",
    "#await node.lock()"
   ]
  },
  {
   "cell_type": "code",
   "execution_count": 30,
   "metadata": {},
   "outputs": [
    {
     "ename": "NameError",
     "evalue": "name 'tdmclient' is not defined",
     "output_type": "error",
     "traceback": [
      "\u001b[1;31m---------------------------------------------------------------------------\u001b[0m",
      "\u001b[1;31mNameError\u001b[0m                                 Traceback (most recent call last)",
      "Cell \u001b[1;32mIn[30], line 1\u001b[0m\n\u001b[1;32m----> 1\u001b[0m \u001b[39m@tdmclient\u001b[39m\u001b[39m.\u001b[39mnotebook\u001b[39m.\u001b[39msync_var\n\u001b[0;32m      2\u001b[0m \u001b[39mdef\u001b[39;00m \u001b[39mmotors\u001b[39m(l_speed\u001b[39m=\u001b[39m\u001b[39m500\u001b[39m, r_speed\u001b[39m=\u001b[39m\u001b[39m500\u001b[39m, verbose\u001b[39m=\u001b[39m\u001b[39mFalse\u001b[39;00m):\n\u001b[0;32m      3\u001b[0m     \u001b[39m\"\"\"\u001b[39;00m\n\u001b[0;32m      4\u001b[0m \u001b[39m    Sets the motor speeds of the Thymio \u001b[39;00m\n\u001b[0;32m      5\u001b[0m \u001b[39m    param l_speed: left motor speed\u001b[39;00m\n\u001b[0;32m      6\u001b[0m \u001b[39m    param r_speed: right motor speed\u001b[39;00m\n\u001b[0;32m      7\u001b[0m \u001b[39m    param verbose: whether to print status messages or not\u001b[39;00m\n\u001b[0;32m      8\u001b[0m \u001b[39m    \"\"\"\u001b[39;00m\n\u001b[0;32m      9\u001b[0m     \u001b[39mglobal\u001b[39;00m motor_left_target, motor_right_target\n",
      "\u001b[1;31mNameError\u001b[0m: name 'tdmclient' is not defined"
     ]
    }
   ],
   "source": [
    "@tdmclient.notebook.sync_var\n",
    "def motors(l_speed=500, r_speed=500, verbose=False):\n",
    "    \"\"\"\n",
    "    Sets the motor speeds of the Thymio \n",
    "    param l_speed: left motor speed\n",
    "    param r_speed: right motor speed\n",
    "    param verbose: whether to print status messages or not\n",
    "    \"\"\"\n",
    "    global motor_left_target, motor_right_target\n",
    "    \n",
    "    # Printing the speeds if requested\n",
    "    if verbose:\n",
    "        print(\"\\t\\t Setting speed : \", l_speed, r_speed)\n",
    "    motor_left_target = l_speed\n",
    "    motor_right_target = r_speed   \n",
    "\n"
   ]
  },
  {
   "cell_type": "code",
   "execution_count": 21,
   "metadata": {},
   "outputs": [
    {
     "ename": "NameError",
     "evalue": "name 'tdmclient' is not defined",
     "output_type": "error",
     "traceback": [
      "\u001b[1;31m---------------------------------------------------------------------------\u001b[0m",
      "\u001b[1;31mNameError\u001b[0m                                 Traceback (most recent call last)",
      "Cell \u001b[1;32mIn[21], line 1\u001b[0m\n\u001b[1;32m----> 1\u001b[0m \u001b[39m@tdmclient\u001b[39m\u001b[39m.\u001b[39mnotebook\u001b[39m.\u001b[39msync_var\n\u001b[0;32m      2\u001b[0m \u001b[39mdef\u001b[39;00m \u001b[39mget_turn\u001b[39m(x,y,orientation):\n\u001b[0;32m      3\u001b[0m     \u001b[39mif\u001b[39;00m x\u001b[39m==\u001b[39m\u001b[39m1\u001b[39m \u001b[39mand\u001b[39;00m y\u001b[39m==\u001b[39m\u001b[39m0\u001b[39m:\n\u001b[0;32m      4\u001b[0m         \u001b[39mdir\u001b[39m \u001b[39m=\u001b[39m \u001b[39m0\u001b[39m\n",
      "\u001b[1;31mNameError\u001b[0m: name 'tdmclient' is not defined"
     ]
    }
   ],
   "source": [
    "@tdmclient.notebook.sync_var\n",
    "def get_turn(x,y,orientation):\n",
    "    if x==1 and y==0:\n",
    "        dir = 0\n",
    "    elif x==0 and y==1:\n",
    "        dir = 1\n",
    "    elif x==-1 and y==0:\n",
    "        dir = 2\n",
    "    elif x==0 and y==-1:\n",
    "        dir = 3\n",
    "    else:\n",
    "        dir = orientation\n",
    "    new_orientation = dir - orientation\n",
    "    if abs(new_orientation)>2:\n",
    "        return (new_orientation)-4*np.sign(new_orientation)\n",
    "    else:\n",
    "        return new_orientation"
   ]
  },
  {
   "cell_type": "code",
   "execution_count": 20,
   "metadata": {},
   "outputs": [],
   "source": [
    "def kalman_adjust(dx,dy,kalman_pos_x,kalman_pos_y,orientation):\n",
    "   x_mm = dx*125-kalman_pos_x\n",
    "   y_mm = dy*125-kalman_pos_y\n",
    "   if (orientation == 0 or orientation == 2):\n",
    "      turn = get_turn(0,np.sign(y_mm),orientation)\n",
    "      adjust = turn*(y_mm)\n",
    "   else:\n",
    "      turn = get_turn(np.sign(x_mm),0,orientation)\n",
    "      adjust = turn*(x_mm)\n",
    "   print(\"adjust = \",adjust)\n",
    "   return adjust"
   ]
  },
  {
   "cell_type": "code",
   "execution_count": 19,
   "metadata": {},
   "outputs": [
    {
     "ename": "NameError",
     "evalue": "name 'get_turn' is not defined",
     "output_type": "error",
     "traceback": [
      "\u001b[1;31m---------------------------------------------------------------------------\u001b[0m",
      "\u001b[1;31mNameError\u001b[0m                                 Traceback (most recent call last)",
      "Cell \u001b[1;32mIn[19], line 28\u001b[0m\n\u001b[0;32m     26\u001b[0m     jump_x,jump_y \u001b[39m=\u001b[39m \u001b[39m0\u001b[39m,\u001b[39m0\u001b[39m\u001b[39m#local_nav_correct(x,y,shortest_path)\u001b[39;00m\n\u001b[0;32m     27\u001b[0m \u001b[39melse\u001b[39;00m:\n\u001b[1;32m---> 28\u001b[0m     turn \u001b[39m=\u001b[39m get_turn(dx\u001b[39m-\u001b[39mx,dy\u001b[39m-\u001b[39my,orientation)\n\u001b[0;32m     29\u001b[0m     orientation \u001b[39m=\u001b[39m orientation \u001b[39m+\u001b[39m turn\n\u001b[0;32m     30\u001b[0m     turn_speed \u001b[39m=\u001b[39m \u001b[39mint\u001b[39m(\u001b[39m100\u001b[39m\u001b[39m*\u001b[39mnp\u001b[39m.\u001b[39msign(turn))\n",
      "\u001b[1;31mNameError\u001b[0m: name 'get_turn' is not defined"
     ]
    }
   ],
   "source": [
    "import time\n",
    "orientation = 0\n",
    "jump = False\n",
    "jump_x,jump_y = 0,0\n",
    "x = start[0]\n",
    "y = start[1]\n",
    "turn_speed = 0\n",
    "kalman_pos_x, kalman_pos_y = 0,0\n",
    "ajdust = 0\n",
    "\n",
    "for dx,dy in np.transpose(shortest_path):\n",
    "    if jump:\n",
    "        x = dx      #actualize the coordinates of the robot\n",
    "        y = dy      #actualize the coordinates of the robot\n",
    "        if jump_x == dx and jump_y == dy:\n",
    "            jump = False\n",
    "        continue\n",
    "    \n",
    "    if False: #camera_check()\n",
    "        angle = camera_angle #angle of the robot\n",
    "        ajdust_angle = angle-orientation\n",
    "        motors(-100*np.sign(ajdust_angle), 100*np.sign(ajdust_angle), verbose=True) #test with lower speed value\n",
    "        time.sleep(5*abs(adjust_angle))\n",
    "        motors(0, 0, verbose=False)\n",
    "    elif False :#local_nav_error()\n",
    "        jump_x,jump_y = 0,0#local_nav_correct(x,y,shortest_path)\n",
    "    else:\n",
    "        turn = get_turn(dx-x,dy-y,orientation)\n",
    "        orientation = orientation + turn\n",
    "        turn_speed = int(100*np.sign(turn))\n",
    "        motors(-turn_speed, turn_speed, verbose=True) #test with lower speed value\n",
    "        time.sleep(5*abs(turn)//2)\n",
    "        if (((dx-x)!=0) | ((dy-y)!=0)):\n",
    "            kalman_pos_x,kalman_pos_y= KF.filter(isCamOn, pos_from_cam, orientation, 100, gnd, gnd_prev, \n",
    "               transition_threshold)\n",
    "            adjust = kalman_adjust(dx-x,dy-x,kalman_pos_x,kalman_pos_y,orientation)\n",
    "            kalman_pos_x = int(100 - adjust) #je reutilise juste les variables\n",
    "            kalman_pos_y = int(100 + adjust)\n",
    "            motors(kalman_pos_x, kalman_pos_y, verbose=True) #test with lower speed value\n",
    "            time.sleep(5)\n",
    "        motors(0, 0, verbose=False)\n",
    "        x = dx      #actualize the coordinates of the robot\n",
    "        y = dy      #actualize the coordinates of the robot\n",
    "\n",
    "\n",
    "motors(0, 0, verbose=True)"
   ]
  },
  {
   "cell_type": "code",
   "execution_count": null,
   "metadata": {},
   "outputs": [
    {
     "name": "stdout",
     "output_type": "stream",
     "text": [
      "\t\t Setting speed :  100 100\n",
      "\t\t Setting speed :  0 0\n"
     ]
    }
   ],
   "source": [
    "import time\n",
    "motors(100, 100, verbose=True) #test with lower speed value\n",
    "time.sleep(5) \n",
    "motors(0, 0, verbose=True)"
   ]
  },
  {
   "cell_type": "code",
   "execution_count": null,
   "metadata": {},
   "outputs": [],
   "source": [
    "aw(node.unlock())"
   ]
  }
 ],
 "metadata": {
  "hide_input": false,
  "kernelspec": {
   "display_name": "base",
   "language": "python",
   "name": "python3"
  },
  "language_info": {
   "codemirror_mode": {
    "name": "ipython",
    "version": 3
   },
   "file_extension": ".py",
   "mimetype": "text/x-python",
   "name": "python",
   "nbconvert_exporter": "python",
   "pygments_lexer": "ipython3",
   "version": "3.9.12 (main, Apr  4 2022, 05:22:27) [MSC v.1916 64 bit (AMD64)]"
  },
  "toc": {
   "base_numbering": 1,
   "nav_menu": {},
   "number_sections": true,
   "sideBar": true,
   "skip_h1_title": false,
   "title_cell": "Table of Contents",
   "title_sidebar": "Contents",
   "toc_cell": true,
   "toc_position": {},
   "toc_section_display": true,
   "toc_window_display": true
  },
  "vscode": {
   "interpreter": {
    "hash": "5ff010c4fb58d66583690da57b105aade205a845f835d32c4ee88b21f1478465"
   }
  }
 },
 "nbformat": 4,
 "nbformat_minor": 4
}
