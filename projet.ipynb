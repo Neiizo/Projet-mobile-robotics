{
 "cells": [
  {
   "cell_type": "code",
   "execution_count": null,
   "id": "4213d38f",
   "metadata": {
    "tags": []
   },
   "outputs": [],
   "source": [
    "#######\n",
    "# This cell is meant to install packages if some are missing\n",
    "#######\n",
    "\n",
    "# !pip install tqdm scipy\n",
    "# !pip install matplotlib\n",
    "# !pip install opencv-contrib-python\n",
    "# !pip install numpy\n",
    "# !pip install --upgrade tdmclient"
   ]
  },
  {
   "cell_type": "code",
   "execution_count": null,
   "id": "ee11d1cc",
   "metadata": {},
   "outputs": [],
   "source": [
    "\n",
    "# import matplotlib.pyplot as plt\n",
    "import time\n",
    "from time import sleep\n",
    "import numpy as np\n",
    "from tqdm import tqdm\n",
    "from kalmanfilter import KalmanFilter\n",
    "import cv2   # a clean up\n",
    "\n",
    "import aruco_vision as av\n",
    "from djikstra import djikstra_algo"
   ]
  },
  {
   "cell_type": "code",
   "execution_count": null,
   "id": "def0ebde",
   "metadata": {},
   "outputs": [],
   "source": [
    "### Connect the thymio(the speed set to 0 is here in case of an error during calibration or during the code)\n",
    "from tdmclient import ClientAsync\n",
    "client = ClientAsync()\n",
    "node = await client.wait_for_node()\n",
    "await node.lock()\n",
    "\n",
    "SPEED = 0\n",
    "    \n",
    "def motors(left, right):\n",
    "    return {\n",
    "        \"motor.left.target\": [left],\n",
    "        \"motor.right.target\": [right],\n",
    "}\n",
    "\n",
    "await node.wait_for_variables()\n",
    "node.send_set_variables(motors(SPEED, SPEED))"
   ]
  },
  {
   "cell_type": "markdown",
   "id": "03ceee3c",
   "metadata": {},
   "source": [
    "# Calibration\n",
    "\n",
    "In this section, we will run multiple functions, in order to calibrate our thymio to the current environement. This gives us more flexibility, and makes it easier to use different thymio in different environment.\n",
    "\n",
    "### Calibration of the thymio \n",
    "\n",
    "In this first step, we will use the following image to calibrate the speed, its conversion ratio from the thymio's sensor to mm/s, and its variance for the Kalman filter.\n",
    "<!-- ![localisation map](Pictures/Picture3.jpg) -->\n",
    "<img src=\"Pictures/Picture1.jpg\" width=\"900\"/>\n",
    "\n",
    "In this next function, we will ask the thymio to move forward, at a known speed. As soon as its ground sensor detect it is on the black line, it will start a timer. When it exit the line, the timer will stop, the thymio will stop aswell, and all the desired values will be computed. In this function, the line length is know and we need to be careful to properly align the thymio as to make it follow the line. We can also adjust the speed to make it go as straight as possible, and adjust the transition threshold if the ligth's intensity in the current room requires it."
   ]
  },
  {
   "cell_type": "code",
   "execution_count": null,
   "id": "2f4c4964",
   "metadata": {},
   "outputs": [],
   "source": [
    "\n",
    "thymio_data = []\n",
    "SPEED = 60\n",
    "Ts = 0.01\n",
    "TRANSITION_THRESHOLD = 400\n",
    "LINE_LENGTH = 300\n",
    "\n",
    "timerStarted = False\n",
    "onLine = True\n",
    "start = 0\n",
    "end = 0\n",
    "iter = 0\n",
    "startIter = 0\n",
    "duration = 0\n",
    "speed_conversion = 0\n",
    "q_nu = 0\n",
    "\n",
    "def get_data():\n",
    "    thymio_data.append({\"ground\":list(node[\"prox.ground.reflected\"]),\n",
    "                    \"left_speed\":node[\"motor.left.speed\"],\n",
    "                    \"right_speed\":node[\"motor.right.speed\"]})\n",
    "\n",
    "def compute_data(start, end, startIter):\n",
    "    duration = end - start\n",
    "    speed_mms = LINE_LENGTH / duration\n",
    "    speed_conversion = speed_mms / SPEED\n",
    "    avg_speed = [(x[\"left_speed\"]+x[\"right_speed\"])/2/speed_conversion for x in thymio_data]\n",
    "    q_nu = np.std(avg_speed[startIter:])/2\n",
    "    print(f\"The conversion factor for the speed of the thymio in mm/s is : {speed_conversion} \")\n",
    "    print(f\"With a desired speed of : {SPEED}, the thymio speed is : {speed_mms} mm/s\")\n",
    "    print(f\"The standard deviation from the speed state (q_nu) and speed measurement (r_nu) is : {q_nu} \")\n",
    "\n",
    "\n",
    "await node.wait_for_variables()\n",
    "node.send_set_variables(motors(SPEED+1, SPEED))\n",
    "\n",
    "while(onLine == True):\n",
    "    await node.wait_for_variables()\n",
    "    get_data()\n",
    "    await client.sleep(Ts)\n",
    "    #tenter avec un average des 2 capteurs\n",
    "    # avg_gnd = np.mean(thymio_data[iter][\"ground\"])\n",
    "    # print(avg_gnd)\n",
    "    if(thymio_data[iter][\"ground\"][0] < TRANSITION_THRESHOLD):\n",
    "        if(timerStarted == False):\n",
    "            timerStarted = True\n",
    "            start = time.time()\n",
    "            startIter = iter\n",
    "    elif(timerStarted == False):\n",
    "        pass\n",
    "    else:\n",
    "        end = time.time()\n",
    "        await node.wait_for_variables()\n",
    "        node.send_set_variables(motors(0, 0))\n",
    "        await client.sleep(Ts)\n",
    "        onLine = False\n",
    "        compute_data(start, end, startIter)\n",
    "    iter = iter + 1\n",
    "\n"
   ]
  },
  {
   "cell_type": "markdown",
   "id": "95e5ebfe",
   "metadata": {},
   "source": [
    "### Calibration of the camera\n",
    "In this next cell, we will retrieve the the grid from the camera, and do all the conversion requiered for the rest of the project. This is done here, because we need to calibrate the image aswell, according to the position of the webcam. This function will make a conversion ratio between the image size and the known size of our grid."
   ]
  },
  {
   "cell_type": "code",
   "execution_count": null,
   "id": "c1a5f3c9",
   "metadata": {},
   "outputs": [],
   "source": [
    "\n",
    "vision = av.ArucoVision()\n",
    "print(vision.grid[1][1])\n",
    "\n",
    "q_nu = 1\n",
    "r_p_cam = 1 # a enlever une fois calculé\n",
    "q_p_cam = 1 # a enlever une fois calculé\n",
    "Q_cam = np.array([q_nu, q_p_cam])\n",
    "R_cam = np.array([q_nu, r_p_cam])"
   ]
  },
  {
   "cell_type": "code",
   "execution_count": null,
   "id": "0610fcd9",
   "metadata": {},
   "outputs": [],
   "source": [
    "# Ici on pourrait éventuellement calculer la taille de chaque case, et faire une variance pour kalman"
   ]
  },
  {
   "cell_type": "markdown",
   "id": "dac1c33d",
   "metadata": {},
   "source": [
    "## Run code\n",
    "\n",
    "Now that we have everything set up, we can run the code"
   ]
  },
  {
   "cell_type": "code",
   "execution_count": null,
   "id": "452027bb",
   "metadata": {},
   "outputs": [],
   "source": [
    "#######\n",
    "# The following values have been set in the calibration part\n",
    "# \n",
    "# Ts = 0.01\n",
    "# Speed = 60\n",
    "# TRANSITION_THRESHOLD = 400\n",
    "# If a preview is needed, run the following command\n",
    "#\n",
    "# print(f\" The sampling time is : {Ts} s \\n The speed is : {SPEED} mm/s \\n The transition threshold is : {TRANSITION_THRESHOLD} \\n\")¨\n",
    "# \n",
    "#######\n",
    "#  The following values are the results of the calibration part \n",
    "#\n",
    "# q_nu \n",
    "# r_nu\n",
    "# conversion\n",
    "# \n",
    "# print(f\"The conversion factor for the speed of the thymio in mm/s is : {conversion} \")\n",
    "# print(f\"The standard deviation from the speed state (q_nu) and speed measurement (r_nu) is : {std_speed} \")\n",
    "#######\n"
   ]
  },
  {
   "cell_type": "code",
   "execution_count": null,
   "id": "ec82cfd2",
   "metadata": {},
   "outputs": [],
   "source": [
    "#same values as in the exercise session\n",
    "r_p_gnd = 0.25 \n",
    "q_p_gnd = 0.04\n",
    "\n",
    "Q_gnd = np.array([q_nu, q_p_gnd])\n",
    "R_gnd = np.array([q_nu, r_p_gnd])\n",
    "vision.update_coordinates()\n",
    "KF = KalmanFilter(Ts, vision.thymio_position, speed_conversion, Q_cam, Q_gnd, R_cam, R_gnd)  # we initialize the filter\n",
    "\n",
    "shortest_path = djikstra_algo(vision.grid, vision.thymio_position, vision.goal_position)\n",
    "print(shortest_path)"
   ]
  },
  {
   "cell_type": "markdown",
   "id": "a1ef6737",
   "metadata": {},
   "source": [
    "We can see that the path has been properly computed. For the path's compution we needed the start and end point. As the kalman initialization also requires the starting point, we have decided to also initialize the filter at this point of the code."
   ]
  },
  {
   "cell_type": "code",
   "execution_count": null,
   "id": "f91c4c3b",
   "metadata": {},
   "outputs": [],
   "source": []
  }
 ],
 "metadata": {
  "kernelspec": {
   "display_name": "Python 3 (ipykernel)",
   "language": "python",
   "name": "python3"
  },
  "language_info": {
   "codemirror_mode": {
    "name": "ipython",
    "version": 3
   },
   "file_extension": ".py",
   "mimetype": "text/x-python",
   "name": "python",
   "nbconvert_exporter": "python",
   "pygments_lexer": "ipython3",
   "version": "3.9.12"
  },
  "vscode": {
   "interpreter": {
    "hash": "5ff010c4fb58d66583690da57b105aade205a845f835d32c4ee88b21f1478465"
   }
  }
 },
 "nbformat": 4,
 "nbformat_minor": 5
}
