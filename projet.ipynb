{
 "cells": [
  {
   "cell_type": "code",
   "execution_count": 7,
   "id": "4213d38f",
   "metadata": {
    "tags": []
   },
   "outputs": [
    {
     "name": "stderr",
     "output_type": "stream",
     "text": [
      "ERROR: Could not find a version that satisfies the requirement threading (from versions: none)\n",
      "ERROR: No matching distribution found for threading\n"
     ]
    }
   ],
   "source": [
    "#######\n",
    "# This cell is meant to install packages if some are missing\n",
    "#######\n",
    "\n",
    "# !pip install tqdm scipy\n",
    "# !pip install matplotlib\n",
    "# !pip install opencv-contrib-python"
   ]
  },
  {
   "cell_type": "code",
   "execution_count": 1,
   "id": "ee11d1cc",
   "metadata": {},
   "outputs": [],
   "source": [
    "\n",
    "import matplotlib.pyplot as plt\n",
    "from scipy.signal import find_peaks\n",
    "import time\n",
    "from time import sleep\n",
    "import numpy as np\n",
    "from tqdm import tqdm\n",
    "from kalmanfilter import KalmanFilter\n",
    "import cv2\n",
    "import math\n",
    "\n",
    "import aruco_vision as av"
   ]
  },
  {
   "cell_type": "code",
   "execution_count": null,
   "id": "def0ebde",
   "metadata": {},
   "outputs": [],
   "source": [
    "### Connect the thymio(the speed set to 0 is here in case of an error during calibration or during the code)\n",
    "from tdmclient import ClientAsync\n",
    "client = ClientAsync()\n",
    "node = await client.wait_for_node()\n",
    "await node.lock()\n",
    "\n",
    "SPEED = 0\n",
    "    \n",
    "def motors(left, right):\n",
    "    return {\n",
    "        \"motor.left.target\": [left],\n",
    "        \"motor.right.target\": [right],\n",
    "}\n",
    "\n",
    "await node.wait_for_variables()\n",
    "node.send_set_variables(motors(SPEED, SPEED))"
   ]
  },
  {
   "cell_type": "markdown",
   "id": "03ceee3c",
   "metadata": {},
   "source": [
    "# Calibration\n",
    "\n",
    "In this section, we will run multiple functions, in order to calibrate our thymio to the current environement. This gives us more flexibility, and makes it easier to use different thymio in different environment.\n",
    "\n",
    "### Calibration of the thymio \n",
    "\n",
    "In this first step, we will use the following image to calibrate the speed, its conversion ratio from the thymio's sensor to mm/s, and its variance for the Kalman filter.\n",
    "<!-- ![localisation map](Pictures/Picture3.jpg) -->\n",
    "<img src=\"Pictures/Picture1.jpg\" width=\"900\"/>\n",
    "\n",
    "In this next function, we will ask the thymio to move forward, at a known speed. As soon as its ground sensor detect it is on the black line, it will start a timer. When it exit the line, the timer will stop, the thymio will stop aswell, and all the desired values will be computed. In this function, the line length is know and we need to be careful to properly align the thymio as to make it follow the line. We can also adjust the speed to make it go as straight as possible, and adjust the transition threshold if the ligth's intensity in the current room requires it."
   ]
  },
  {
   "cell_type": "code",
   "execution_count": 8,
   "id": "2f4c4964",
   "metadata": {},
   "outputs": [
    {
     "ename": "NameError",
     "evalue": "name 'node' is not defined",
     "output_type": "error",
     "traceback": [
      "\u001b[1;31m---------------------------------------------------------------------------\u001b[0m",
      "\u001b[1;31mNameError\u001b[0m                                 Traceback (most recent call last)",
      "\u001b[1;32mc:\\Users\\Neizo\\Documents\\Exercises\\BMR\\Projet mobile robotics\\projet.ipynb Cell 5\u001b[0m in \u001b[0;36m<cell line: 38>\u001b[1;34m()\u001b[0m\n\u001b[0;32m     <a href='vscode-notebook-cell:/c%3A/Users/Neizo/Documents/Exercises/BMR/Projet%20mobile%20robotics/projet.ipynb#X10sZmlsZQ%3D%3D?line=33'>34</a>\u001b[0m     \u001b[39mprint\u001b[39m(\u001b[39mf\u001b[39m\u001b[39m\"\u001b[39m\u001b[39mWith a desired speed of : \u001b[39m\u001b[39m{\u001b[39;00mSPEED\u001b[39m}\u001b[39;00m\u001b[39m, the thymio speed is : \u001b[39m\u001b[39m{\u001b[39;00mspeed_mms\u001b[39m}\u001b[39;00m\u001b[39m mm/s\u001b[39m\u001b[39m\"\u001b[39m)\n\u001b[0;32m     <a href='vscode-notebook-cell:/c%3A/Users/Neizo/Documents/Exercises/BMR/Projet%20mobile%20robotics/projet.ipynb#X10sZmlsZQ%3D%3D?line=34'>35</a>\u001b[0m     \u001b[39mprint\u001b[39m(\u001b[39mf\u001b[39m\u001b[39m\"\u001b[39m\u001b[39mThe standard deviation from the speed state (q_nu) and speed measurement (r_nu) is : \u001b[39m\u001b[39m{\u001b[39;00mstd_speed\u001b[39m}\u001b[39;00m\u001b[39m \u001b[39m\u001b[39m\"\u001b[39m)\n\u001b[1;32m---> <a href='vscode-notebook-cell:/c%3A/Users/Neizo/Documents/Exercises/BMR/Projet%20mobile%20robotics/projet.ipynb#X10sZmlsZQ%3D%3D?line=37'>38</a>\u001b[0m \u001b[39mawait\u001b[39;00m node\u001b[39m.\u001b[39mwait_for_variables()\n\u001b[0;32m     <a href='vscode-notebook-cell:/c%3A/Users/Neizo/Documents/Exercises/BMR/Projet%20mobile%20robotics/projet.ipynb#X10sZmlsZQ%3D%3D?line=38'>39</a>\u001b[0m node\u001b[39m.\u001b[39msend_set_variables(motors(SPEED\u001b[39m+\u001b[39m\u001b[39m1\u001b[39m, SPEED))\n\u001b[0;32m     <a href='vscode-notebook-cell:/c%3A/Users/Neizo/Documents/Exercises/BMR/Projet%20mobile%20robotics/projet.ipynb#X10sZmlsZQ%3D%3D?line=40'>41</a>\u001b[0m \u001b[39mwhile\u001b[39;00m(onLine \u001b[39m==\u001b[39m \u001b[39mTrue\u001b[39;00m):\n",
      "\u001b[1;31mNameError\u001b[0m: name 'node' is not defined"
     ]
    }
   ],
   "source": [
    "\n",
    "thymio_data = []\n",
    "SPEED = 60\n",
    "Ts = 0.01\n",
    "TRANSITION_THRESHOLD = 400\n",
    "LINE_LENGTH = 300\n",
    "\n",
    "timerStarted = False\n",
    "onLine = True\n",
    "start = 0\n",
    "end = 0\n",
    "iter = 0\n",
    "startIter = 0\n",
    "duration = 0\n",
    "speed_conversion = 0\n",
    "q_nu = 0\n",
    "\n",
    "def get_data():\n",
    "    thymio_data.append({\"ground\":list(node[\"prox.ground.reflected\"]),\n",
    "                    \"left_speed\":node[\"motor.left.speed\"],\n",
    "                    \"right_speed\":node[\"motor.right.speed\"]})\n",
    "\n",
    "def compute_data(start, end, startIter):\n",
    "    duration = end - start\n",
    "    speed_mms = LINE_LENGTH / duration\n",
    "    speed_conversion = speed_mms / SPEED\n",
    "    avg_speed = [(x[\"left_speed\"]+x[\"right_speed\"])/2/speed_conversion for x in thymio_data]\n",
    "    q_nu = np.std(avg_speed[startIter:])/2\n",
    "    print(f\"The conversion factor for the speed of the thymio in mm/s is : {speed_conversion} \")\n",
    "    print(f\"With a desired speed of : {SPEED}, the thymio speed is : {speed_mms} mm/s\")\n",
    "    print(f\"The standard deviation from the speed state (q_nu) and speed measurement (r_nu) is : {q_nu} \")\n",
    "\n",
    "\n",
    "await node.wait_for_variables()\n",
    "node.send_set_variables(motors(SPEED+1, SPEED))\n",
    "\n",
    "while(onLine == True):\n",
    "    await node.wait_for_variables()\n",
    "    get_data()\n",
    "    await client.sleep(Ts)\n",
    "    #tenter avec un average des 2 capteurs\n",
    "    # avg_gnd = np.mean(thymio_data[iter][\"ground\"])\n",
    "    # print(avg_gnd)\n",
    "    if(thymio_data[iter][\"ground\"][0] < TRANSITION_THRESHOLD):\n",
    "        if(timerStarted == False):\n",
    "            timerStarted = True\n",
    "            start = time.time()\n",
    "            startIter = iter\n",
    "    elif(timerStarted == False):\n",
    "        pass\n",
    "    else:\n",
    "        end = time.time()\n",
    "        await node.wait_for_variables()\n",
    "        node.send_set_variables(motors(0, 0))\n",
    "        await client.sleep(Ts)\n",
    "        onLine = False\n",
    "        compute_data(start, end, startIter)\n",
    "    iter = iter + 1\n",
    "\n"
   ]
  },
  {
   "cell_type": "markdown",
   "id": "95e5ebfe",
   "metadata": {},
   "source": [
    "### Calibration of the camera\n",
    "In this next cell, we will retrieve the the grid from the camera, and do all the conversion requiered for the rest of the project. This is done here, because we need to calibrate the image aswell, according to the position of the webcam. This function will make a conversion ratio between the image size and the known size of our grid."
   ]
  },
  {
   "cell_type": "code",
   "execution_count": 2,
   "id": "c1a5f3c9",
   "metadata": {},
   "outputs": [
    {
     "name": "stdout",
     "output_type": "stream",
     "text": [
      "0.0\n"
     ]
    }
   ],
   "source": [
    "\n",
    "vision = av.ArucoVision()\n",
    "print(vision.grid[1][1])\n",
    "\n"
   ]
  },
  {
   "cell_type": "code",
   "execution_count": null,
   "id": "0610fcd9",
   "metadata": {},
   "outputs": [],
   "source": [
    "Ici on pourrait éventuellement calculer la taille de chaque case, et faire une variance pour kalman"
   ]
  },
  {
   "cell_type": "markdown",
   "id": "dac1c33d",
   "metadata": {},
   "source": [
    "## Run code\n",
    "\n",
    "Now that we have everything set up, we can run the code"
   ]
  },
  {
   "cell_type": "code",
   "execution_count": 9,
   "id": "452027bb",
   "metadata": {},
   "outputs": [
    {
     "name": "stdout",
     "output_type": "stream",
     "text": [
      " The sampling time is : 0.01 s \n",
      " The speed is : 60 mm/s \n",
      " The transition threshold is : 400 \n",
      "\n"
     ]
    }
   ],
   "source": [
    "#######\n",
    "# The following values have been set in the calibration part\n",
    "# \n",
    "# Ts = 0.01\n",
    "# Speed = 60\n",
    "# TRANSITION_THRESHOLD = 400\n",
    "# If a preview is needed, run the following command\n",
    "#\n",
    "# print(f\" The sampling time is : {Ts} s \\n The speed is : {SPEED} mm/s \\n The transition threshold is : {TRANSITION_THRESHOLD} \\n\")¨\n",
    "# \n",
    "#######\n",
    "#  The following values are the results of the calibration part \n",
    "#\n",
    "# q_nu \n",
    "# r_nu\n",
    "# conversion\n",
    "# \n",
    "# print(f\"The conversion factor for the speed of the thymio in mm/s is : {conversion} \")\n",
    "# print(f\"The standard deviation from the speed state (q_nu) and speed measurement (r_nu) is : {std_speed} \")\n",
    "#######\n",
    "\n",
    "r_nu = q_nu\n",
    "q_p = 1\n",
    "r_p = 1\n",
    "vision.update_coordinates()\n",
    "KF = KalmanFilter(Ts, vision.thymio_position, speed_conversion, q_p, q_nu, r_p, q_nu)  # we initialize the filter\n",
    "\n",
    "\n"
   ]
  }
 ],
 "metadata": {
  "kernelspec": {
   "display_name": "Python 3 (ipykernel)",
   "language": "python",
   "name": "python3"
  },
  "language_info": {
   "codemirror_mode": {
    "name": "ipython",
    "version": 3
   },
   "file_extension": ".py",
   "mimetype": "text/x-python",
   "name": "python",
   "nbconvert_exporter": "python",
   "pygments_lexer": "ipython3",
   "version": "3.9.12"
  },
  "vscode": {
   "interpreter": {
    "hash": "5ff010c4fb58d66583690da57b105aade205a845f835d32c4ee88b21f1478465"
   }
  }
 },
 "nbformat": 4,
 "nbformat_minor": 5
}
