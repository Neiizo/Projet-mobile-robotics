{
 "cells": [
  {
   "cell_type": "code",
   "execution_count": null,
   "id": "d9157f1c",
   "metadata": {},
   "outputs": [],
   "source": [
    "####### \n",
    "# This cell is meant to install packages if some are missing\n",
    "#######\n",
    "\n",
    "# !pip install tqdm scipy\n",
    "# !pip install matplotlib\n",
    "# !pip install opencv-contrib-python\n",
    "# !pip install numpy\n",
    "# !pip install --upgrade tdmclient"
   ]
  },
  {
   "cell_type": "code",
   "execution_count": null,
   "id": "def0ebde",
   "metadata": {},
   "outputs": [],
   "source": [
    "DEBUG = True\n",
    "\n",
    "\n",
    "\n",
    "import matplotlib.pyplot as plt\n",
    "import time\n",
    "import numpy as np\n",
    "from tqdm import tqdm\n",
    "from kalmanfilter import KalmanFilter\n",
    "import cv2   # a clean up\n",
    "import Motion_control as mc\n",
    "\n",
    "#import computer_vision\n",
    "from djikstra import djikstra_algo\n",
    "from calibration import data\n",
    "\n",
    "### Connect the thymio(the speed set to 0 is here in case of an error during calibration or during the code)\n",
    "from tdmclient import ClientAsync, aw\n",
    "client = ClientAsync()\n",
    "node = aw(client.wait_for_node())\n",
    "aw(node.lock())\n",
    "\n",
    "\n",
    "#we initialize the calibration calss aswell as some values that are needed throughout the entire code\n",
    "Ts = 0.01\n",
    "SPEED_X = 101\n",
    "SPEED_Y = 100\n",
    "GND_THRESHOLD = 400\n",
    "\n",
    "cal_data = data(Ts, SPEED_X, SPEED_Y, GND_THRESHOLD, client, node)\n",
    "mc.motors(node, 0, 0)"
   ]
  },
  {
   "cell_type": "markdown",
   "id": "03ceee3c",
   "metadata": {},
   "source": [
    "# Calibration\n",
    "\n",
    "In this section, we will run multiple functions, in order to calibrate our thymio to the current environement. This gives us more flexibility, and makes it easier to use different thymio in different environment.\n",
    "\n",
    "### Calibration of the thymio \n",
    "\n",
    "In this first step, we will use the following image to calibrate the speed, its conversion ratio from the thymio's sensor to mm/s, and its variance for the Kalman filter.\n",
    "<!-- ![localisation map](Pictures/Picture3.jpg) -->\n",
    "<img src=\"Pictures/Picture1.jpg\" width=\"900\"/>\n",
    "\n",
    "In this next function, we will ask the thymio to move forward, at a known speed. As soon as its ground sensor detect it is on the black line, it will start a timer. When it exit the line, the timer will stop, the thymio will stop aswell, and all the desired values will be computed. In this function, the line length is know and we need to be careful to properly align the thymio as to make it follow the line. We can also adjust the speed to make it go as straight as possible, and adjust the transition threshold if the ligth's intensity in the current room requires it."
   ]
  },
  {
   "cell_type": "code",
   "execution_count": null,
   "id": "2f4c4964",
   "metadata": {},
   "outputs": [],
   "source": [
    "cal_data.calibration_mm()"
   ]
  },
  {
   "cell_type": "markdown",
   "id": "95e5ebfe",
   "metadata": {},
   "source": [
    "### Calibration of the camera\n",
    "In this next cell, we will retrieve the the grid from the camera, and do all the conversion requiered for the rest of the project. This is done here, because we need to calibrate the image aswell, according to the position of the webcam. This function will make a conversion ratio between the image size and the known size of our grid."
   ]
  },
  {
   "cell_type": "code",
   "execution_count": null,
   "id": "c1a5f3c9",
   "metadata": {},
   "outputs": [],
   "source": [
    "# be careful that if you have not called the previous sell, this will automatically set the missing values\n",
    "vision, Q_cam, R_cam, Q_gnd, R_gnd = cal_data.cam_calibration()\n",
    "if(DEBUG == True):\n",
    "    print(vision.grid)\n",
    "    lines = vision.show()\n",
    "    plt.figure\n",
    "    plt.title('Lines')\n",
    "    plt.imshow(cv2.cvtColor(lines.astype('uint8'), cv2.COLOR_BGR2RGB))\n"
   ]
  },
  {
   "cell_type": "markdown",
   "id": "dac1c33d",
   "metadata": {},
   "source": [
    "## Run code\n",
    "\n",
    "Now that we have everything set up, we can run the code"
   ]
  },
  {
   "cell_type": "code",
   "execution_count": null,
   "id": "452027bb",
   "metadata": {},
   "outputs": [],
   "source": [
    "#######\n",
    "# The following values have been set in the calibration part\n",
    "# \n",
    "# Ts = 0.01\n",
    "# SPPED_X = 101\n",
    "# SPPED_0 = 100\n",
    "# GND_THRESHOLD = 400\n",
    "# If a preview is needed, run the following command\n",
    "#\n",
    "# print(f\" The sampling time is : {Ts} s \\n The speed is : {SPEED} mm/s \\n The transition threshold is : {GND_THRESHOLD} \\n\")¨\n",
    "# \n",
    "#######\n",
    "#  The following values are the results of the calibration part \n",
    "#\n",
    "# q_nu \n",
    "# r_nu\n",
    "# conversion\n",
    "# \n",
    "# print(f\"The conversion factor for the speed of the thymio in mm/s is : {conversion} \")\n",
    "# print(f\"The standard deviation from the speed state (q_nu) and speed measurement (r_nu) is : {std_speed} \")\n",
    "#######\n"
   ]
  },
  {
   "cell_type": "code",
   "execution_count": null,
   "id": "ec82cfd2",
   "metadata": {},
   "outputs": [],
   "source": [
    "vision.update_coordinates()\n",
    "shortest_path = djikstra_algo(vision.grid.T, vision.thymio_position, vision.goal_position)\n",
    "if(DEBUG == True):\n",
    "    print(shortest_path)\n",
    "\n",
    "KF = KalmanFilter(Ts, vision.thymio_real_pos, cal_data.speed_conversion, Q_cam, Q_gnd, R_cam, R_gnd)  # we initialize the filter"
   ]
  },
  {
   "cell_type": "code",
   "execution_count": null,
   "id": "651348e1",
   "metadata": {},
   "outputs": [],
   "source": [
    "step_duration = 125 / (SPEED_X * cal_data.speed_conversion)\n",
    "turn_duration = 98 / (SPEED_X * cal_data.speed_conversion)\n",
    "vision.update_coordinates()\n",
    "orientation = mc.correct_orientation(vision.thymio_orientation)\n",
    "x = vision.thymio_position[0]\n",
    "y = vision.thymio_position[1]\n",
    "speed = np.array([SPEED_X, SPEED_Y])\n",
    "#  A TOUT METTRE DANS MOTION CONTROL\n",
    "jump = False\n",
    "jump_x,jump_y = 0,0\n",
    "turn_speed = 0\n",
    "kalmann_pos_x, kalmann_pos_y = 0,0\n",
    "ajdust = 0\n",
    "for dx,dy in np.transpose(shortest_path):\n",
    "    if jump:\n",
    "        x = dx      #actualize the coordinates of the robot\n",
    "        y = dy      #actualize the coordinates of the robot\n",
    "        if jump_x == dx and jump_y == dy:\n",
    "            jump = False\n",
    "        continue\n",
    "    \n",
    "    vision.update_coordinates()  # camera_check()\n",
    "    angle = vision.thymio_orientation # angle of the robot\n",
    "    if orientation == 0 & angle > 270:\n",
    "        adjust_angle = angle - 360\n",
    "    else:\n",
    "        adjust_angle = angle - orientation*90 \n",
    "    if(DEBUG == True):\n",
    "        print(\"adjust angle :\", adjust_angle)\n",
    "    speed[0] = int(speed[0]*np.sign(adjust_angle))\n",
    "    speed[1] = int(-speed[1]*np.sign(adjust_angle))\n",
    "    mc.motors(node, speed[0], speed[1])\n",
    "    aw(client.sleep(5*abs(adjust_angle)//180))\n",
    "    mc.motors(node, 0, 0)\n",
    "    if False :#local_nav_error()\n",
    "        jump_x,jump_y = 0,0#local_nav_correct(x,y,shortest_path)\n",
    "    else:\n",
    "        turn = mc.get_turn(dx-x,dy-y,orientation)\n",
    "        orientation = orientation + turn\n",
    "        mc.robot_turn(np.sign(turn),SPEED_X,cal_data.speed_conversion, node, client)\n",
    "        if (((dx-x)!=0) | ((dy-y)!=0)):\n",
    "            vision.update_coordinates()  #camera_check()\n",
    "            angle = vision.thymio_orientation #angle of the robot\n",
    "            if orientation == 0 & angle > 270:\n",
    "                adjust_angle = angle - 360\n",
    "            else:\n",
    "                adjust_angle = angle - orientation*90 \n",
    "            if(DEBUG == True):\n",
    "                print(\"adjust angle \", adjust_angle)\n",
    "            speed[0] = int(speed[0]*np.sign(adjust_angle)) # a réeecire\n",
    "            speed[1] = int(-speed[1]*np.sign(adjust_angle))\n",
    "            mc.motors(node, speed[0], speed[1])\n",
    "            aw(client.sleep(5*abs(adjust_angle)//180))\n",
    "            mc.motors(node, 0, 0)\n",
    "            start_move = time.time()\n",
    "            step_done = False\n",
    "            while (step_done == False):\n",
    "                current = time.time()\n",
    "                if((current - start_move) > step_duration):\n",
    "                    step_done = True \n",
    "                else:   \n",
    "                    vision.update_coordinates()\n",
    "                    kalman_pos= KF.filter(1, vision.thymio_real_pos, orientation, speed, 0, 0, GND_THRESHOLD)\n",
    "                    adjust_turn,adjust_speed = mc.kalman_adjust(dx,dy,kalman_pos[0],kalman_pos[1],orientation)\n",
    "                    speed[0] = int(speed[0] - (adjust_turn + adjust_speed)/50) #je reutilise juste les variables\n",
    "                    speed[1] = int(speed[1] + (adjust_turn - adjust_speed)/50) \n",
    "                    mc.motors(node, speed[0], speed[1])\n",
    "                    aw(client.sleep(Ts))\n",
    "            mc.motors(node,0, 0)\n",
    "    x = dx      #actualize the coordinates of the robot\n",
    "    y = dy      #actualize the coordinates of the robot\n"
   ]
  },
  {
   "cell_type": "markdown",
   "id": "a1ef6737",
   "metadata": {},
   "source": [
    "We can see that the path has been properly computed. For the path's compution we needed the start and end point. As the kalman initialization also requires the starting point, we have decided to also initialize the filter at this point of the code."
   ]
  },
  {
   "cell_type": "code",
   "execution_count": null,
   "id": "419babc8",
   "metadata": {},
   "outputs": [],
   "source": [
    "mc.motors(node, 0, 0)"
   ]
  },
  {
   "cell_type": "markdown",
   "id": "d26226a2",
   "metadata": {},
   "source": []
  },
  {
   "cell_type": "markdown",
   "id": "b60cbf01",
   "metadata": {},
   "source": [
    "changer pour du \n",
    "move\n",
    "start = time.time()\n",
    "\n",
    "vbla bla bla\n",
    "\n",
    "current = time.time()\n",
    "if current-start == temps pour la durée désirée\n",
    "\n",
    "alors on passe à l'étape suivante\n",
    "\n",
    "\n",
    "\n",
    "\n",
    "\n",
    "jouer avec la mesure de la vitesse sur la phase de calibration\n",
    "\n"
   ]
  }
 ],
 "metadata": {
  "kernelspec": {
   "display_name": "Python 3 (ipykernel)",
   "language": "python",
   "name": "python3"
  },
  "language_info": {
   "codemirror_mode": {
    "name": "ipython",
    "version": 3
   },
   "file_extension": ".py",
   "mimetype": "text/x-python",
   "name": "python",
   "nbconvert_exporter": "python",
   "pygments_lexer": "ipython3",
   "version": "3.9.12"
  },
  "vscode": {
   "interpreter": {
    "hash": "5ff010c4fb58d66583690da57b105aade205a845f835d32c4ee88b21f1478465"
   }
  }
 },
 "nbformat": 4,
 "nbformat_minor": 5
}
